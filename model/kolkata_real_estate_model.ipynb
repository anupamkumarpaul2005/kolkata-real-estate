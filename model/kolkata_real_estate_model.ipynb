{
 "cells": [
  {
   "cell_type": "code",
   "execution_count": 19,
   "metadata": {},
   "outputs": [],
   "source": [
    "import numpy as np\n",
    "import matplotlib.pyplot as plt\n",
    "import seaborn as sns\n",
    "%matplotlib inline\n",
    "import pandas as pd\n"
   ]
  },
  {
   "cell_type": "code",
   "execution_count": 20,
   "metadata": {},
   "outputs": [
    {
     "data": {
      "text/html": [
       "<div>\n",
       "<style scoped>\n",
       "    .dataframe tbody tr th:only-of-type {\n",
       "        vertical-align: middle;\n",
       "    }\n",
       "\n",
       "    .dataframe tbody tr th {\n",
       "        vertical-align: top;\n",
       "    }\n",
       "\n",
       "    .dataframe thead th {\n",
       "        text-align: right;\n",
       "    }\n",
       "</style>\n",
       "<table border=\"1\" class=\"dataframe\">\n",
       "  <thead>\n",
       "    <tr style=\"text-align: right;\">\n",
       "      <th></th>\n",
       "      <th>Unnamed: 0</th>\n",
       "      <th>Name</th>\n",
       "      <th>Area</th>\n",
       "      <th>Furnishing</th>\n",
       "      <th>Transaction</th>\n",
       "      <th>Status</th>\n",
       "      <th>Price</th>\n",
       "    </tr>\n",
       "  </thead>\n",
       "  <tbody>\n",
       "    <tr>\n",
       "      <th>0</th>\n",
       "      <td>0</td>\n",
       "      <td>4 BHK Apartment for Sale in Sugam Morya</td>\n",
       "      <td>1850 sqft</td>\n",
       "      <td>Unfurnished</td>\n",
       "      <td>Resale</td>\n",
       "      <td>Ready to Move</td>\n",
       "      <td>₹2.38 Cr</td>\n",
       "    </tr>\n",
       "    <tr>\n",
       "      <th>1</th>\n",
       "      <td>1</td>\n",
       "      <td>2 BHK Apartment for Sale in Regent Park Kolkata</td>\n",
       "      <td>525 sqft</td>\n",
       "      <td>Unfurnished</td>\n",
       "      <td>Resale</td>\n",
       "      <td>Ready to Move</td>\n",
       "      <td>₹32 Lac</td>\n",
       "    </tr>\n",
       "    <tr>\n",
       "      <th>2</th>\n",
       "      <td>2</td>\n",
       "      <td>2 BHK Apartment for Sale in Parvati Garden</td>\n",
       "      <td>705 sqft</td>\n",
       "      <td>Unfurnished</td>\n",
       "      <td>Resale</td>\n",
       "      <td>Ready to Move</td>\n",
       "      <td>₹32 Lac</td>\n",
       "    </tr>\n",
       "    <tr>\n",
       "      <th>3</th>\n",
       "      <td>3</td>\n",
       "      <td>3 BHK Apartment for Sale in Multicon Estelle</td>\n",
       "      <td>1612 sqft</td>\n",
       "      <td>Unfurnished</td>\n",
       "      <td>Resale</td>\n",
       "      <td>Ready to Move</td>\n",
       "      <td>₹2.25 Cr</td>\n",
       "    </tr>\n",
       "    <tr>\n",
       "      <th>4</th>\n",
       "      <td>4</td>\n",
       "      <td>2 BHK Apartment for Sale in Golpark Cooperativ...</td>\n",
       "      <td>980 sqft</td>\n",
       "      <td>Semi-Furnished</td>\n",
       "      <td>Resale</td>\n",
       "      <td>Ready to Move</td>\n",
       "      <td>₹50 Lac</td>\n",
       "    </tr>\n",
       "  </tbody>\n",
       "</table>\n",
       "</div>"
      ],
      "text/plain": [
       "   Unnamed: 0                                               Name       Area  \\\n",
       "0           0            4 BHK Apartment for Sale in Sugam Morya  1850 sqft   \n",
       "1           1    2 BHK Apartment for Sale in Regent Park Kolkata   525 sqft   \n",
       "2           2         2 BHK Apartment for Sale in Parvati Garden   705 sqft   \n",
       "3           3       3 BHK Apartment for Sale in Multicon Estelle  1612 sqft   \n",
       "4           4  2 BHK Apartment for Sale in Golpark Cooperativ...   980 sqft   \n",
       "\n",
       "       Furnishing Transaction         Status     Price  \n",
       "0     Unfurnished      Resale  Ready to Move  ₹2.38 Cr  \n",
       "1     Unfurnished      Resale  Ready to Move   ₹32 Lac  \n",
       "2     Unfurnished      Resale  Ready to Move   ₹32 Lac  \n",
       "3     Unfurnished      Resale  Ready to Move  ₹2.25 Cr  \n",
       "4  Semi-Furnished      Resale  Ready to Move   ₹50 Lac  "
      ]
     },
     "execution_count": 20,
     "metadata": {},
     "output_type": "execute_result"
    }
   ],
   "source": [
    "df = pd.read_csv('real_estate_properties.csv')\n",
    "df.head()"
   ]
  },
  {
   "cell_type": "code",
   "execution_count": 21,
   "metadata": {},
   "outputs": [
    {
     "data": {
      "text/html": [
       "<div>\n",
       "<style scoped>\n",
       "    .dataframe tbody tr th:only-of-type {\n",
       "        vertical-align: middle;\n",
       "    }\n",
       "\n",
       "    .dataframe tbody tr th {\n",
       "        vertical-align: top;\n",
       "    }\n",
       "\n",
       "    .dataframe thead th {\n",
       "        text-align: right;\n",
       "    }\n",
       "</style>\n",
       "<table border=\"1\" class=\"dataframe\">\n",
       "  <thead>\n",
       "    <tr style=\"text-align: right;\">\n",
       "      <th></th>\n",
       "      <th>Name</th>\n",
       "      <th>Area</th>\n",
       "      <th>Furnishing</th>\n",
       "      <th>Transaction</th>\n",
       "      <th>Status</th>\n",
       "      <th>Price</th>\n",
       "    </tr>\n",
       "  </thead>\n",
       "  <tbody>\n",
       "    <tr>\n",
       "      <th>0</th>\n",
       "      <td>4 BHK Apartment for Sale in Sugam Morya</td>\n",
       "      <td>1850 sqft</td>\n",
       "      <td>Unfurnished</td>\n",
       "      <td>Resale</td>\n",
       "      <td>Ready to Move</td>\n",
       "      <td>₹2.38 Cr</td>\n",
       "    </tr>\n",
       "    <tr>\n",
       "      <th>1</th>\n",
       "      <td>2 BHK Apartment for Sale in Regent Park Kolkata</td>\n",
       "      <td>525 sqft</td>\n",
       "      <td>Unfurnished</td>\n",
       "      <td>Resale</td>\n",
       "      <td>Ready to Move</td>\n",
       "      <td>₹32 Lac</td>\n",
       "    </tr>\n",
       "    <tr>\n",
       "      <th>2</th>\n",
       "      <td>2 BHK Apartment for Sale in Parvati Garden</td>\n",
       "      <td>705 sqft</td>\n",
       "      <td>Unfurnished</td>\n",
       "      <td>Resale</td>\n",
       "      <td>Ready to Move</td>\n",
       "      <td>₹32 Lac</td>\n",
       "    </tr>\n",
       "    <tr>\n",
       "      <th>3</th>\n",
       "      <td>3 BHK Apartment for Sale in Multicon Estelle</td>\n",
       "      <td>1612 sqft</td>\n",
       "      <td>Unfurnished</td>\n",
       "      <td>Resale</td>\n",
       "      <td>Ready to Move</td>\n",
       "      <td>₹2.25 Cr</td>\n",
       "    </tr>\n",
       "    <tr>\n",
       "      <th>4</th>\n",
       "      <td>2 BHK Apartment for Sale in Golpark Cooperativ...</td>\n",
       "      <td>980 sqft</td>\n",
       "      <td>Semi-Furnished</td>\n",
       "      <td>Resale</td>\n",
       "      <td>Ready to Move</td>\n",
       "      <td>₹50 Lac</td>\n",
       "    </tr>\n",
       "  </tbody>\n",
       "</table>\n",
       "</div>"
      ],
      "text/plain": [
       "                                                Name       Area  \\\n",
       "0            4 BHK Apartment for Sale in Sugam Morya  1850 sqft   \n",
       "1    2 BHK Apartment for Sale in Regent Park Kolkata   525 sqft   \n",
       "2         2 BHK Apartment for Sale in Parvati Garden   705 sqft   \n",
       "3       3 BHK Apartment for Sale in Multicon Estelle  1612 sqft   \n",
       "4  2 BHK Apartment for Sale in Golpark Cooperativ...   980 sqft   \n",
       "\n",
       "       Furnishing Transaction         Status     Price  \n",
       "0     Unfurnished      Resale  Ready to Move  ₹2.38 Cr  \n",
       "1     Unfurnished      Resale  Ready to Move   ₹32 Lac  \n",
       "2     Unfurnished      Resale  Ready to Move   ₹32 Lac  \n",
       "3     Unfurnished      Resale  Ready to Move  ₹2.25 Cr  \n",
       "4  Semi-Furnished      Resale  Ready to Move   ₹50 Lac  "
      ]
     },
     "execution_count": 21,
     "metadata": {},
     "output_type": "execute_result"
    }
   ],
   "source": [
    "df1 = df.drop('Unnamed: 0', axis='columns')\n",
    "df1.head()"
   ]
  },
  {
   "cell_type": "code",
   "execution_count": 22,
   "metadata": {},
   "outputs": [
    {
     "data": {
      "text/plain": [
       "(3000, 6)"
      ]
     },
     "execution_count": 22,
     "metadata": {},
     "output_type": "execute_result"
    }
   ],
   "source": [
    "df1.shape"
   ]
  },
  {
   "cell_type": "code",
   "execution_count": 23,
   "metadata": {},
   "outputs": [
    {
     "data": {
      "text/plain": [
       "Name             0\n",
       "Area             0\n",
       "Furnishing     377\n",
       "Transaction    100\n",
       "Status           0\n",
       "Price            0\n",
       "dtype: int64"
      ]
     },
     "execution_count": 23,
     "metadata": {},
     "output_type": "execute_result"
    }
   ],
   "source": [
    "df1.isnull().sum()"
   ]
  },
  {
   "cell_type": "code",
   "execution_count": 24,
   "metadata": {},
   "outputs": [
    {
     "data": {
      "text/plain": [
       "array(['Resale', nan], dtype=object)"
      ]
     },
     "execution_count": 24,
     "metadata": {},
     "output_type": "execute_result"
    }
   ],
   "source": [
    "df1['Transaction'].unique()"
   ]
  },
  {
   "cell_type": "code",
   "execution_count": 25,
   "metadata": {},
   "outputs": [
    {
     "data": {
      "text/plain": [
       "array(['Ready to Move'], dtype=object)"
      ]
     },
     "execution_count": 25,
     "metadata": {},
     "output_type": "execute_result"
    }
   ],
   "source": [
    "df1['Status'].unique()"
   ]
  },
  {
   "cell_type": "code",
   "execution_count": 26,
   "metadata": {},
   "outputs": [
    {
     "data": {
      "text/plain": [
       "array(['Unfurnished', 'Semi-Furnished', 'Furnished', nan], dtype=object)"
      ]
     },
     "execution_count": 26,
     "metadata": {},
     "output_type": "execute_result"
    }
   ],
   "source": [
    "df1['Furnishing'].unique()"
   ]
  },
  {
   "cell_type": "code",
   "execution_count": 27,
   "metadata": {},
   "outputs": [
    {
     "data": {
      "text/plain": [
       "'Unfurnished'"
      ]
     },
     "execution_count": 27,
     "metadata": {},
     "output_type": "execute_result"
    }
   ],
   "source": [
    "most_frequent_furnishing = df1['Furnishing'].value_counts().index[0]\n",
    "most_frequent_furnishing"
   ]
  },
  {
   "cell_type": "code",
   "execution_count": 28,
   "metadata": {},
   "outputs": [
    {
     "data": {
      "text/html": [
       "<div>\n",
       "<style scoped>\n",
       "    .dataframe tbody tr th:only-of-type {\n",
       "        vertical-align: middle;\n",
       "    }\n",
       "\n",
       "    .dataframe tbody tr th {\n",
       "        vertical-align: top;\n",
       "    }\n",
       "\n",
       "    .dataframe thead th {\n",
       "        text-align: right;\n",
       "    }\n",
       "</style>\n",
       "<table border=\"1\" class=\"dataframe\">\n",
       "  <thead>\n",
       "    <tr style=\"text-align: right;\">\n",
       "      <th></th>\n",
       "      <th>Name</th>\n",
       "      <th>Area</th>\n",
       "      <th>Furnishing</th>\n",
       "      <th>Price</th>\n",
       "    </tr>\n",
       "  </thead>\n",
       "  <tbody>\n",
       "    <tr>\n",
       "      <th>0</th>\n",
       "      <td>4 BHK Apartment for Sale in Sugam Morya</td>\n",
       "      <td>1850 sqft</td>\n",
       "      <td>Unfurnished</td>\n",
       "      <td>₹2.38 Cr</td>\n",
       "    </tr>\n",
       "    <tr>\n",
       "      <th>1</th>\n",
       "      <td>2 BHK Apartment for Sale in Regent Park Kolkata</td>\n",
       "      <td>525 sqft</td>\n",
       "      <td>Unfurnished</td>\n",
       "      <td>₹32 Lac</td>\n",
       "    </tr>\n",
       "    <tr>\n",
       "      <th>2</th>\n",
       "      <td>2 BHK Apartment for Sale in Parvati Garden</td>\n",
       "      <td>705 sqft</td>\n",
       "      <td>Unfurnished</td>\n",
       "      <td>₹32 Lac</td>\n",
       "    </tr>\n",
       "    <tr>\n",
       "      <th>3</th>\n",
       "      <td>3 BHK Apartment for Sale in Multicon Estelle</td>\n",
       "      <td>1612 sqft</td>\n",
       "      <td>Unfurnished</td>\n",
       "      <td>₹2.25 Cr</td>\n",
       "    </tr>\n",
       "    <tr>\n",
       "      <th>4</th>\n",
       "      <td>2 BHK Apartment for Sale in Golpark Cooperativ...</td>\n",
       "      <td>980 sqft</td>\n",
       "      <td>Semi-Furnished</td>\n",
       "      <td>₹50 Lac</td>\n",
       "    </tr>\n",
       "  </tbody>\n",
       "</table>\n",
       "</div>"
      ],
      "text/plain": [
       "                                                Name       Area  \\\n",
       "0            4 BHK Apartment for Sale in Sugam Morya  1850 sqft   \n",
       "1    2 BHK Apartment for Sale in Regent Park Kolkata   525 sqft   \n",
       "2         2 BHK Apartment for Sale in Parvati Garden   705 sqft   \n",
       "3       3 BHK Apartment for Sale in Multicon Estelle  1612 sqft   \n",
       "4  2 BHK Apartment for Sale in Golpark Cooperativ...   980 sqft   \n",
       "\n",
       "       Furnishing     Price  \n",
       "0     Unfurnished  ₹2.38 Cr  \n",
       "1     Unfurnished   ₹32 Lac  \n",
       "2     Unfurnished   ₹32 Lac  \n",
       "3     Unfurnished  ₹2.25 Cr  \n",
       "4  Semi-Furnished   ₹50 Lac  "
      ]
     },
     "execution_count": 28,
     "metadata": {},
     "output_type": "execute_result"
    }
   ],
   "source": [
    "df2 = df1.drop(['Transaction', 'Status'], axis='columns')\n",
    "df2['Furnishing'] = df2['Furnishing'].fillna(most_frequent_furnishing)\n",
    "df2.head()"
   ]
  },
  {
   "cell_type": "code",
   "execution_count": 29,
   "metadata": {},
   "outputs": [
    {
     "data": {
      "text/plain": [
       "Name          0\n",
       "Area          0\n",
       "Furnishing    0\n",
       "Price         0\n",
       "dtype: int64"
      ]
     },
     "execution_count": 29,
     "metadata": {},
     "output_type": "execute_result"
    }
   ],
   "source": [
    "df2.isnull().sum()"
   ]
  },
  {
   "cell_type": "code",
   "execution_count": 30,
   "metadata": {},
   "outputs": [
    {
     "data": {
      "text/plain": [
       "array(['1850 sqft', '525 sqft', '705 sqft', '1612 sqft', '980 sqft',\n",
       "       '850 sqft', '268 sqft', '580 sqft', '1241 sqft', '1836 sqft',\n",
       "       '1140 sqft', '750 sqft', '652 sqft', '820 sqft', '1000 sqft',\n",
       "       '720 sqft', '1817 sqft', '1100 sqft', '4400 sqft', '2142 sqft',\n",
       "       '853 sqft', '1675 sqft', '386 sqft', '1120 sqft', '272 sqft',\n",
       "       '1800 sqft', '928 sqft', '985 sqft'], dtype=object)"
      ]
     },
     "execution_count": 30,
     "metadata": {},
     "output_type": "execute_result"
    }
   ],
   "source": [
    "df2['Area'].unique()"
   ]
  },
  {
   "cell_type": "code",
   "execution_count": 31,
   "metadata": {},
   "outputs": [
    {
     "data": {
      "text/html": [
       "<div>\n",
       "<style scoped>\n",
       "    .dataframe tbody tr th:only-of-type {\n",
       "        vertical-align: middle;\n",
       "    }\n",
       "\n",
       "    .dataframe tbody tr th {\n",
       "        vertical-align: top;\n",
       "    }\n",
       "\n",
       "    .dataframe thead th {\n",
       "        text-align: right;\n",
       "    }\n",
       "</style>\n",
       "<table border=\"1\" class=\"dataframe\">\n",
       "  <thead>\n",
       "    <tr style=\"text-align: right;\">\n",
       "      <th></th>\n",
       "      <th>Name</th>\n",
       "      <th>Area</th>\n",
       "      <th>Furnishing</th>\n",
       "      <th>Price</th>\n",
       "    </tr>\n",
       "  </thead>\n",
       "  <tbody>\n",
       "    <tr>\n",
       "      <th>0</th>\n",
       "      <td>4 BHK Apartment for Sale in Sugam Morya</td>\n",
       "      <td>1850</td>\n",
       "      <td>Unfurnished</td>\n",
       "      <td>₹2.38 Cr</td>\n",
       "    </tr>\n",
       "    <tr>\n",
       "      <th>1</th>\n",
       "      <td>2 BHK Apartment for Sale in Regent Park Kolkata</td>\n",
       "      <td>525</td>\n",
       "      <td>Unfurnished</td>\n",
       "      <td>₹32 Lac</td>\n",
       "    </tr>\n",
       "    <tr>\n",
       "      <th>2</th>\n",
       "      <td>2 BHK Apartment for Sale in Parvati Garden</td>\n",
       "      <td>705</td>\n",
       "      <td>Unfurnished</td>\n",
       "      <td>₹32 Lac</td>\n",
       "    </tr>\n",
       "    <tr>\n",
       "      <th>3</th>\n",
       "      <td>3 BHK Apartment for Sale in Multicon Estelle</td>\n",
       "      <td>1612</td>\n",
       "      <td>Unfurnished</td>\n",
       "      <td>₹2.25 Cr</td>\n",
       "    </tr>\n",
       "    <tr>\n",
       "      <th>4</th>\n",
       "      <td>2 BHK Apartment for Sale in Golpark Cooperativ...</td>\n",
       "      <td>980</td>\n",
       "      <td>Semi-Furnished</td>\n",
       "      <td>₹50 Lac</td>\n",
       "    </tr>\n",
       "  </tbody>\n",
       "</table>\n",
       "</div>"
      ],
      "text/plain": [
       "                                                Name  Area      Furnishing  \\\n",
       "0            4 BHK Apartment for Sale in Sugam Morya  1850     Unfurnished   \n",
       "1    2 BHK Apartment for Sale in Regent Park Kolkata   525     Unfurnished   \n",
       "2         2 BHK Apartment for Sale in Parvati Garden   705     Unfurnished   \n",
       "3       3 BHK Apartment for Sale in Multicon Estelle  1612     Unfurnished   \n",
       "4  2 BHK Apartment for Sale in Golpark Cooperativ...   980  Semi-Furnished   \n",
       "\n",
       "      Price  \n",
       "0  ₹2.38 Cr  \n",
       "1   ₹32 Lac  \n",
       "2   ₹32 Lac  \n",
       "3  ₹2.25 Cr  \n",
       "4   ₹50 Lac  "
      ]
     },
     "execution_count": 31,
     "metadata": {},
     "output_type": "execute_result"
    }
   ],
   "source": [
    "df3 = df2.copy()\n",
    "df3['Area'] = df2['Area'].map(lambda x: int(x.split()[0]))\n",
    "df3.head()"
   ]
  },
  {
   "cell_type": "code",
   "execution_count": 32,
   "metadata": {},
   "outputs": [
    {
     "data": {
      "text/html": [
       "<div>\n",
       "<style scoped>\n",
       "    .dataframe tbody tr th:only-of-type {\n",
       "        vertical-align: middle;\n",
       "    }\n",
       "\n",
       "    .dataframe tbody tr th {\n",
       "        vertical-align: top;\n",
       "    }\n",
       "\n",
       "    .dataframe thead th {\n",
       "        text-align: right;\n",
       "    }\n",
       "</style>\n",
       "<table border=\"1\" class=\"dataframe\">\n",
       "  <thead>\n",
       "    <tr style=\"text-align: right;\">\n",
       "      <th></th>\n",
       "      <th>Name</th>\n",
       "      <th>Area</th>\n",
       "      <th>Furnishing</th>\n",
       "      <th>Price</th>\n",
       "      <th>Location</th>\n",
       "      <th>type</th>\n",
       "    </tr>\n",
       "  </thead>\n",
       "  <tbody>\n",
       "    <tr>\n",
       "      <th>0</th>\n",
       "      <td>4 BHK Apartment for Sale in Sugam Morya</td>\n",
       "      <td>1850</td>\n",
       "      <td>Unfurnished</td>\n",
       "      <td>₹2.38 Cr</td>\n",
       "      <td>Sugam Morya</td>\n",
       "      <td>4 BHK Apartment</td>\n",
       "    </tr>\n",
       "    <tr>\n",
       "      <th>1</th>\n",
       "      <td>2 BHK Apartment for Sale in Regent Park Kolkata</td>\n",
       "      <td>525</td>\n",
       "      <td>Unfurnished</td>\n",
       "      <td>₹32 Lac</td>\n",
       "      <td>Regent Park Kolkata</td>\n",
       "      <td>2 BHK Apartment</td>\n",
       "    </tr>\n",
       "    <tr>\n",
       "      <th>2</th>\n",
       "      <td>2 BHK Apartment for Sale in Parvati Garden</td>\n",
       "      <td>705</td>\n",
       "      <td>Unfurnished</td>\n",
       "      <td>₹32 Lac</td>\n",
       "      <td>Parvati Garden</td>\n",
       "      <td>2 BHK Apartment</td>\n",
       "    </tr>\n",
       "    <tr>\n",
       "      <th>3</th>\n",
       "      <td>3 BHK Apartment for Sale in Multicon Estelle</td>\n",
       "      <td>1612</td>\n",
       "      <td>Unfurnished</td>\n",
       "      <td>₹2.25 Cr</td>\n",
       "      <td>Multicon Estelle</td>\n",
       "      <td>3 BHK Apartment</td>\n",
       "    </tr>\n",
       "    <tr>\n",
       "      <th>4</th>\n",
       "      <td>2 BHK Apartment for Sale in Golpark Cooperativ...</td>\n",
       "      <td>980</td>\n",
       "      <td>Semi-Furnished</td>\n",
       "      <td>₹50 Lac</td>\n",
       "      <td>Golpark Cooperative Housing Society</td>\n",
       "      <td>2 BHK Apartment</td>\n",
       "    </tr>\n",
       "  </tbody>\n",
       "</table>\n",
       "</div>"
      ],
      "text/plain": [
       "                                                Name  Area      Furnishing  \\\n",
       "0            4 BHK Apartment for Sale in Sugam Morya  1850     Unfurnished   \n",
       "1    2 BHK Apartment for Sale in Regent Park Kolkata   525     Unfurnished   \n",
       "2         2 BHK Apartment for Sale in Parvati Garden   705     Unfurnished   \n",
       "3       3 BHK Apartment for Sale in Multicon Estelle  1612     Unfurnished   \n",
       "4  2 BHK Apartment for Sale in Golpark Cooperativ...   980  Semi-Furnished   \n",
       "\n",
       "      Price                             Location             type  \n",
       "0  ₹2.38 Cr                          Sugam Morya  4 BHK Apartment  \n",
       "1   ₹32 Lac                  Regent Park Kolkata  2 BHK Apartment  \n",
       "2   ₹32 Lac                       Parvati Garden  2 BHK Apartment  \n",
       "3  ₹2.25 Cr                     Multicon Estelle  3 BHK Apartment  \n",
       "4   ₹50 Lac  Golpark Cooperative Housing Society  2 BHK Apartment  "
      ]
     },
     "execution_count": 32,
     "metadata": {},
     "output_type": "execute_result"
    }
   ],
   "source": [
    "df3['Location'] = df3['Name'].map(lambda x:x.split(' for Sale in ')[1])\n",
    "df3['type'] = df3['Name'].map(lambda x:x.split(' for Sale in ')[0])\n",
    "df3.head()"
   ]
  },
  {
   "cell_type": "code",
   "execution_count": 33,
   "metadata": {},
   "outputs": [
    {
     "data": {
      "text/plain": [
       "array(['Sugam Morya', 'Regent Park Kolkata', 'Parvati Garden',\n",
       "       'Multicon Estelle', 'Golpark Cooperative Housing Society',\n",
       "       'Shyam Vihar Phase 2', 'Ballygunge Kolkata', 'Vip Road Kolkata',\n",
       "       'Urban Heights', 'Thakurpukur Kolkata', 'Rajarhat Kolkata',\n",
       "       'Batanagar Kolkata', 'Buroshibtalla', 'Parnasree Palli Kolkata',\n",
       "       'Baguiati Kolkata', 'Behala Kolkata', 'Behala Chowrasta Kolkata',\n",
       "       'Haridevpur', 'Motilal Gupta Road Kolkata', 'Bangur Avenue',\n",
       "       'Golf Towers', 'Kankurgachi Kolkata', 'Meena Florence',\n",
       "       'Greenfield City Classic Premium', 'Classic Tower',\n",
       "       'Mukundapur Kolkata', 'Koyla Vihar Vasundhara',\n",
       "       'Lake Town Kolkata', 'Shyam Vihar'], dtype=object)"
      ]
     },
     "execution_count": 33,
     "metadata": {},
     "output_type": "execute_result"
    }
   ],
   "source": [
    "df3['Location'].unique()"
   ]
  },
  {
   "cell_type": "code",
   "execution_count": 34,
   "metadata": {},
   "outputs": [
    {
     "data": {
      "text/plain": [
       "type\n",
       "3 BHK Apartment        1023\n",
       "2 BHK Apartment         900\n",
       "3 BHK House             200\n",
       "Shop                    177\n",
       "4 BHK Apartment         100\n",
       "Office Space            100\n",
       "2 BHK Builder Floor     100\n",
       "6 BHK House             100\n",
       "5 BHK House             100\n",
       "Showroom                100\n",
       "1 BHK Apartment         100\n",
       "Name: count, dtype: int64"
      ]
     },
     "execution_count": 34,
     "metadata": {},
     "output_type": "execute_result"
    }
   ],
   "source": [
    "df3['type'].value_counts()"
   ]
  },
  {
   "cell_type": "code",
   "execution_count": 35,
   "metadata": {},
   "outputs": [
    {
     "data": {
      "text/plain": [
       "(2623, 6)"
      ]
     },
     "execution_count": 35,
     "metadata": {},
     "output_type": "execute_result"
    }
   ],
   "source": [
    "df4 = df3[~(df3['type']=='Office Space') & ~(df3['type']=='Shop') & ~(df3['type']=='Showroom')]\n",
    "df4.shape"
   ]
  },
  {
   "cell_type": "code",
   "execution_count": 36,
   "metadata": {},
   "outputs": [
    {
     "data": {
      "text/plain": [
       "type\n",
       "3 BHK Apartment        1023\n",
       "2 BHK Apartment         900\n",
       "3 BHK House             200\n",
       "4 BHK Apartment         100\n",
       "2 BHK Builder Floor     100\n",
       "6 BHK House             100\n",
       "5 BHK House             100\n",
       "1 BHK Apartment         100\n",
       "Name: count, dtype: int64"
      ]
     },
     "execution_count": 36,
     "metadata": {},
     "output_type": "execute_result"
    }
   ],
   "source": [
    "df4['type'].value_counts()"
   ]
  },
  {
   "cell_type": "code",
   "execution_count": 59,
   "metadata": {},
   "outputs": [
    {
     "name": "stderr",
     "output_type": "stream",
     "text": [
      "C:\\Users\\User\\AppData\\Local\\Temp\\ipykernel_15576\\1632653189.py:1: SettingWithCopyWarning: \n",
      "A value is trying to be set on a copy of a slice from a DataFrame.\n",
      "Try using .loc[row_indexer,col_indexer] = value instead\n",
      "\n",
      "See the caveats in the documentation: https://pandas.pydata.org/pandas-docs/stable/user_guide/indexing.html#returning-a-view-versus-a-copy\n",
      "  df4['BHK'] = df4['type'].map(lambda x:int(x.split()[0]))\n",
      "C:\\Users\\User\\AppData\\Local\\Temp\\ipykernel_15576\\1632653189.py:2: SettingWithCopyWarning: \n",
      "A value is trying to be set on a copy of a slice from a DataFrame.\n",
      "Try using .loc[row_indexer,col_indexer] = value instead\n",
      "\n",
      "See the caveats in the documentation: https://pandas.pydata.org/pandas-docs/stable/user_guide/indexing.html#returning-a-view-versus-a-copy\n",
      "  df4['Type'] = df4['type'].map(lambda x:x.split(' BHK ')[-1])\n"
     ]
    },
    {
     "data": {
      "text/html": [
       "<div>\n",
       "<style scoped>\n",
       "    .dataframe tbody tr th:only-of-type {\n",
       "        vertical-align: middle;\n",
       "    }\n",
       "\n",
       "    .dataframe tbody tr th {\n",
       "        vertical-align: top;\n",
       "    }\n",
       "\n",
       "    .dataframe thead th {\n",
       "        text-align: right;\n",
       "    }\n",
       "</style>\n",
       "<table border=\"1\" class=\"dataframe\">\n",
       "  <thead>\n",
       "    <tr style=\"text-align: right;\">\n",
       "      <th></th>\n",
       "      <th>Name</th>\n",
       "      <th>Area</th>\n",
       "      <th>Furnishing</th>\n",
       "      <th>Price</th>\n",
       "      <th>Location</th>\n",
       "      <th>type</th>\n",
       "      <th>BHK</th>\n",
       "      <th>Type</th>\n",
       "    </tr>\n",
       "  </thead>\n",
       "  <tbody>\n",
       "    <tr>\n",
       "      <th>0</th>\n",
       "      <td>4 BHK Apartment for Sale in Sugam Morya</td>\n",
       "      <td>1850</td>\n",
       "      <td>Unfurnished</td>\n",
       "      <td>₹2.38 Cr</td>\n",
       "      <td>Sugam Morya</td>\n",
       "      <td>4 BHK Apartment</td>\n",
       "      <td>4</td>\n",
       "      <td>Apartment</td>\n",
       "    </tr>\n",
       "    <tr>\n",
       "      <th>1</th>\n",
       "      <td>2 BHK Apartment for Sale in Regent Park Kolkata</td>\n",
       "      <td>525</td>\n",
       "      <td>Unfurnished</td>\n",
       "      <td>₹32 Lac</td>\n",
       "      <td>Regent Park Kolkata</td>\n",
       "      <td>2 BHK Apartment</td>\n",
       "      <td>2</td>\n",
       "      <td>Apartment</td>\n",
       "    </tr>\n",
       "    <tr>\n",
       "      <th>2</th>\n",
       "      <td>2 BHK Apartment for Sale in Parvati Garden</td>\n",
       "      <td>705</td>\n",
       "      <td>Unfurnished</td>\n",
       "      <td>₹32 Lac</td>\n",
       "      <td>Parvati Garden</td>\n",
       "      <td>2 BHK Apartment</td>\n",
       "      <td>2</td>\n",
       "      <td>Apartment</td>\n",
       "    </tr>\n",
       "    <tr>\n",
       "      <th>3</th>\n",
       "      <td>3 BHK Apartment for Sale in Multicon Estelle</td>\n",
       "      <td>1612</td>\n",
       "      <td>Unfurnished</td>\n",
       "      <td>₹2.25 Cr</td>\n",
       "      <td>Multicon Estelle</td>\n",
       "      <td>3 BHK Apartment</td>\n",
       "      <td>3</td>\n",
       "      <td>Apartment</td>\n",
       "    </tr>\n",
       "    <tr>\n",
       "      <th>4</th>\n",
       "      <td>2 BHK Apartment for Sale in Golpark Cooperativ...</td>\n",
       "      <td>980</td>\n",
       "      <td>Semi-Furnished</td>\n",
       "      <td>₹50 Lac</td>\n",
       "      <td>Golpark Cooperative Housing Society</td>\n",
       "      <td>2 BHK Apartment</td>\n",
       "      <td>2</td>\n",
       "      <td>Apartment</td>\n",
       "    </tr>\n",
       "  </tbody>\n",
       "</table>\n",
       "</div>"
      ],
      "text/plain": [
       "                                                Name  Area      Furnishing  \\\n",
       "0            4 BHK Apartment for Sale in Sugam Morya  1850     Unfurnished   \n",
       "1    2 BHK Apartment for Sale in Regent Park Kolkata   525     Unfurnished   \n",
       "2         2 BHK Apartment for Sale in Parvati Garden   705     Unfurnished   \n",
       "3       3 BHK Apartment for Sale in Multicon Estelle  1612     Unfurnished   \n",
       "4  2 BHK Apartment for Sale in Golpark Cooperativ...   980  Semi-Furnished   \n",
       "\n",
       "      Price                             Location             type  BHK  \\\n",
       "0  ₹2.38 Cr                          Sugam Morya  4 BHK Apartment    4   \n",
       "1   ₹32 Lac                  Regent Park Kolkata  2 BHK Apartment    2   \n",
       "2   ₹32 Lac                       Parvati Garden  2 BHK Apartment    2   \n",
       "3  ₹2.25 Cr                     Multicon Estelle  3 BHK Apartment    3   \n",
       "4   ₹50 Lac  Golpark Cooperative Housing Society  2 BHK Apartment    2   \n",
       "\n",
       "        Type  \n",
       "0  Apartment  \n",
       "1  Apartment  \n",
       "2  Apartment  \n",
       "3  Apartment  \n",
       "4  Apartment  "
      ]
     },
     "execution_count": 59,
     "metadata": {},
     "output_type": "execute_result"
    }
   ],
   "source": [
    "df4['BHK'] = df4['type'].map(lambda x:int(x.split()[0]))\n",
    "df4['Type'] = df4['type'].map(lambda x:x.split(' BHK ')[-1])\n",
    "df4.head()"
   ]
  },
  {
   "cell_type": "code",
   "execution_count": 60,
   "metadata": {},
   "outputs": [
    {
     "data": {
      "text/html": [
       "<div>\n",
       "<style scoped>\n",
       "    .dataframe tbody tr th:only-of-type {\n",
       "        vertical-align: middle;\n",
       "    }\n",
       "\n",
       "    .dataframe tbody tr th {\n",
       "        vertical-align: top;\n",
       "    }\n",
       "\n",
       "    .dataframe thead th {\n",
       "        text-align: right;\n",
       "    }\n",
       "</style>\n",
       "<table border=\"1\" class=\"dataframe\">\n",
       "  <thead>\n",
       "    <tr style=\"text-align: right;\">\n",
       "      <th></th>\n",
       "      <th>Area</th>\n",
       "      <th>Furnishing</th>\n",
       "      <th>Price</th>\n",
       "      <th>Location</th>\n",
       "      <th>BHK</th>\n",
       "      <th>Type</th>\n",
       "    </tr>\n",
       "  </thead>\n",
       "  <tbody>\n",
       "    <tr>\n",
       "      <th>0</th>\n",
       "      <td>1850</td>\n",
       "      <td>Unfurnished</td>\n",
       "      <td>₹2.38 Cr</td>\n",
       "      <td>Sugam Morya</td>\n",
       "      <td>4</td>\n",
       "      <td>Apartment</td>\n",
       "    </tr>\n",
       "    <tr>\n",
       "      <th>1</th>\n",
       "      <td>525</td>\n",
       "      <td>Unfurnished</td>\n",
       "      <td>₹32 Lac</td>\n",
       "      <td>Regent Park Kolkata</td>\n",
       "      <td>2</td>\n",
       "      <td>Apartment</td>\n",
       "    </tr>\n",
       "    <tr>\n",
       "      <th>2</th>\n",
       "      <td>705</td>\n",
       "      <td>Unfurnished</td>\n",
       "      <td>₹32 Lac</td>\n",
       "      <td>Parvati Garden</td>\n",
       "      <td>2</td>\n",
       "      <td>Apartment</td>\n",
       "    </tr>\n",
       "    <tr>\n",
       "      <th>3</th>\n",
       "      <td>1612</td>\n",
       "      <td>Unfurnished</td>\n",
       "      <td>₹2.25 Cr</td>\n",
       "      <td>Multicon Estelle</td>\n",
       "      <td>3</td>\n",
       "      <td>Apartment</td>\n",
       "    </tr>\n",
       "    <tr>\n",
       "      <th>4</th>\n",
       "      <td>980</td>\n",
       "      <td>Semi-Furnished</td>\n",
       "      <td>₹50 Lac</td>\n",
       "      <td>Golpark Cooperative Housing Society</td>\n",
       "      <td>2</td>\n",
       "      <td>Apartment</td>\n",
       "    </tr>\n",
       "  </tbody>\n",
       "</table>\n",
       "</div>"
      ],
      "text/plain": [
       "   Area      Furnishing     Price                             Location  BHK  \\\n",
       "0  1850     Unfurnished  ₹2.38 Cr                          Sugam Morya    4   \n",
       "1   525     Unfurnished   ₹32 Lac                  Regent Park Kolkata    2   \n",
       "2   705     Unfurnished   ₹32 Lac                       Parvati Garden    2   \n",
       "3  1612     Unfurnished  ₹2.25 Cr                     Multicon Estelle    3   \n",
       "4   980  Semi-Furnished   ₹50 Lac  Golpark Cooperative Housing Society    2   \n",
       "\n",
       "        Type  \n",
       "0  Apartment  \n",
       "1  Apartment  \n",
       "2  Apartment  \n",
       "3  Apartment  \n",
       "4  Apartment  "
      ]
     },
     "execution_count": 60,
     "metadata": {},
     "output_type": "execute_result"
    }
   ],
   "source": [
    "df5 = df4.drop(['Name', 'type'], axis='columns')\n",
    "df5.head()"
   ]
  },
  {
   "cell_type": "code",
   "execution_count": 61,
   "metadata": {},
   "outputs": [
    {
     "data": {
      "text/plain": [
       "array(['₹2.38 Cr', '₹32 Lac', '₹2.25 Cr', '₹50 Lac', '₹38 Lac',\n",
       "       '₹1.25 Cr', '₹85 Lac', '₹1.60 Cr', '₹35 Lac', '₹59 Lac', '₹51 Lac',\n",
       "       '₹60 Lac', '₹42 Lac', '₹75 Lac', '₹84 Lac', '₹30 Lac', '₹2.80 Cr',\n",
       "       '₹1.45 Cr', '₹1.50 Cr', '₹15 Lac', '₹1.35 Cr', '₹67 Lac'],\n",
       "      dtype=object)"
      ]
     },
     "execution_count": 61,
     "metadata": {},
     "output_type": "execute_result"
    }
   ],
   "source": [
    "df5['Price'].unique()"
   ]
  },
  {
   "cell_type": "code",
   "execution_count": 62,
   "metadata": {},
   "outputs": [],
   "source": [
    "def clean_price(price):\n",
    "    p, mult = price.split()\n",
    "    p = float(p[1:])\n",
    "    if mult=='Cr':\n",
    "        return p*100\n",
    "    else:\n",
    "        return p"
   ]
  },
  {
   "cell_type": "code",
   "execution_count": 63,
   "metadata": {},
   "outputs": [],
   "source": [
    "price = df5['Price'].map(clean_price)"
   ]
  },
  {
   "cell_type": "code",
   "execution_count": 64,
   "metadata": {},
   "outputs": [
    {
     "data": {
      "text/html": [
       "<div>\n",
       "<style scoped>\n",
       "    .dataframe tbody tr th:only-of-type {\n",
       "        vertical-align: middle;\n",
       "    }\n",
       "\n",
       "    .dataframe tbody tr th {\n",
       "        vertical-align: top;\n",
       "    }\n",
       "\n",
       "    .dataframe thead th {\n",
       "        text-align: right;\n",
       "    }\n",
       "</style>\n",
       "<table border=\"1\" class=\"dataframe\">\n",
       "  <thead>\n",
       "    <tr style=\"text-align: right;\">\n",
       "      <th></th>\n",
       "      <th>Area</th>\n",
       "      <th>Furnishing</th>\n",
       "      <th>Price</th>\n",
       "      <th>Location</th>\n",
       "      <th>BHK</th>\n",
       "      <th>Type</th>\n",
       "    </tr>\n",
       "  </thead>\n",
       "  <tbody>\n",
       "    <tr>\n",
       "      <th>0</th>\n",
       "      <td>1850</td>\n",
       "      <td>Unfurnished</td>\n",
       "      <td>238.0</td>\n",
       "      <td>Sugam Morya</td>\n",
       "      <td>4</td>\n",
       "      <td>Apartment</td>\n",
       "    </tr>\n",
       "    <tr>\n",
       "      <th>1</th>\n",
       "      <td>525</td>\n",
       "      <td>Unfurnished</td>\n",
       "      <td>32.0</td>\n",
       "      <td>Regent Park Kolkata</td>\n",
       "      <td>2</td>\n",
       "      <td>Apartment</td>\n",
       "    </tr>\n",
       "    <tr>\n",
       "      <th>2</th>\n",
       "      <td>705</td>\n",
       "      <td>Unfurnished</td>\n",
       "      <td>32.0</td>\n",
       "      <td>Parvati Garden</td>\n",
       "      <td>2</td>\n",
       "      <td>Apartment</td>\n",
       "    </tr>\n",
       "    <tr>\n",
       "      <th>3</th>\n",
       "      <td>1612</td>\n",
       "      <td>Unfurnished</td>\n",
       "      <td>225.0</td>\n",
       "      <td>Multicon Estelle</td>\n",
       "      <td>3</td>\n",
       "      <td>Apartment</td>\n",
       "    </tr>\n",
       "    <tr>\n",
       "      <th>4</th>\n",
       "      <td>980</td>\n",
       "      <td>Semi-Furnished</td>\n",
       "      <td>50.0</td>\n",
       "      <td>Golpark Cooperative Housing Society</td>\n",
       "      <td>2</td>\n",
       "      <td>Apartment</td>\n",
       "    </tr>\n",
       "  </tbody>\n",
       "</table>\n",
       "</div>"
      ],
      "text/plain": [
       "   Area      Furnishing  Price                             Location  BHK  \\\n",
       "0  1850     Unfurnished  238.0                          Sugam Morya    4   \n",
       "1   525     Unfurnished   32.0                  Regent Park Kolkata    2   \n",
       "2   705     Unfurnished   32.0                       Parvati Garden    2   \n",
       "3  1612     Unfurnished  225.0                     Multicon Estelle    3   \n",
       "4   980  Semi-Furnished   50.0  Golpark Cooperative Housing Society    2   \n",
       "\n",
       "        Type  \n",
       "0  Apartment  \n",
       "1  Apartment  \n",
       "2  Apartment  \n",
       "3  Apartment  \n",
       "4  Apartment  "
      ]
     },
     "execution_count": 64,
     "metadata": {},
     "output_type": "execute_result"
    }
   ],
   "source": [
    "df5['Price'] = price\n",
    "df5.head()"
   ]
  },
  {
   "cell_type": "code",
   "execution_count": 65,
   "metadata": {},
   "outputs": [
    {
     "data": {
      "text/plain": [
       "Area            int64\n",
       "Furnishing     object\n",
       "Price         float64\n",
       "Location       object\n",
       "BHK             int64\n",
       "Type           object\n",
       "dtype: object"
      ]
     },
     "execution_count": 65,
     "metadata": {},
     "output_type": "execute_result"
    }
   ],
   "source": [
    "df5.dtypes"
   ]
  },
  {
   "cell_type": "code",
   "execution_count": 66,
   "metadata": {},
   "outputs": [],
   "source": [
    "df6 = df5.copy()"
   ]
  },
  {
   "cell_type": "code",
   "execution_count": 67,
   "metadata": {},
   "outputs": [
    {
     "data": {
      "text/plain": [
       "array(['Unfurnished', 'Semi-Furnished', 'Furnished'], dtype=object)"
      ]
     },
     "execution_count": 67,
     "metadata": {},
     "output_type": "execute_result"
    }
   ],
   "source": [
    "df6['Furnishing'].unique()"
   ]
  },
  {
   "cell_type": "code",
   "execution_count": 68,
   "metadata": {},
   "outputs": [],
   "source": [
    "def encode_furnishing(f):\n",
    "    furnishing = ['Unfurnished', 'Semi-Furnished', 'Furnished']\n",
    "    return furnishing.index(f)"
   ]
  },
  {
   "cell_type": "code",
   "execution_count": 69,
   "metadata": {},
   "outputs": [
    {
     "data": {
      "text/html": [
       "<div>\n",
       "<style scoped>\n",
       "    .dataframe tbody tr th:only-of-type {\n",
       "        vertical-align: middle;\n",
       "    }\n",
       "\n",
       "    .dataframe tbody tr th {\n",
       "        vertical-align: top;\n",
       "    }\n",
       "\n",
       "    .dataframe thead th {\n",
       "        text-align: right;\n",
       "    }\n",
       "</style>\n",
       "<table border=\"1\" class=\"dataframe\">\n",
       "  <thead>\n",
       "    <tr style=\"text-align: right;\">\n",
       "      <th></th>\n",
       "      <th>Area</th>\n",
       "      <th>Furnishing</th>\n",
       "      <th>Price</th>\n",
       "      <th>Location</th>\n",
       "      <th>BHK</th>\n",
       "      <th>Type</th>\n",
       "    </tr>\n",
       "  </thead>\n",
       "  <tbody>\n",
       "    <tr>\n",
       "      <th>0</th>\n",
       "      <td>1850</td>\n",
       "      <td>0</td>\n",
       "      <td>238.0</td>\n",
       "      <td>Sugam Morya</td>\n",
       "      <td>4</td>\n",
       "      <td>Apartment</td>\n",
       "    </tr>\n",
       "    <tr>\n",
       "      <th>1</th>\n",
       "      <td>525</td>\n",
       "      <td>0</td>\n",
       "      <td>32.0</td>\n",
       "      <td>Regent Park Kolkata</td>\n",
       "      <td>2</td>\n",
       "      <td>Apartment</td>\n",
       "    </tr>\n",
       "    <tr>\n",
       "      <th>2</th>\n",
       "      <td>705</td>\n",
       "      <td>0</td>\n",
       "      <td>32.0</td>\n",
       "      <td>Parvati Garden</td>\n",
       "      <td>2</td>\n",
       "      <td>Apartment</td>\n",
       "    </tr>\n",
       "    <tr>\n",
       "      <th>3</th>\n",
       "      <td>1612</td>\n",
       "      <td>0</td>\n",
       "      <td>225.0</td>\n",
       "      <td>Multicon Estelle</td>\n",
       "      <td>3</td>\n",
       "      <td>Apartment</td>\n",
       "    </tr>\n",
       "    <tr>\n",
       "      <th>4</th>\n",
       "      <td>980</td>\n",
       "      <td>1</td>\n",
       "      <td>50.0</td>\n",
       "      <td>Golpark Cooperative Housing Society</td>\n",
       "      <td>2</td>\n",
       "      <td>Apartment</td>\n",
       "    </tr>\n",
       "  </tbody>\n",
       "</table>\n",
       "</div>"
      ],
      "text/plain": [
       "   Area  Furnishing  Price                             Location  BHK  \\\n",
       "0  1850           0  238.0                          Sugam Morya    4   \n",
       "1   525           0   32.0                  Regent Park Kolkata    2   \n",
       "2   705           0   32.0                       Parvati Garden    2   \n",
       "3  1612           0  225.0                     Multicon Estelle    3   \n",
       "4   980           1   50.0  Golpark Cooperative Housing Society    2   \n",
       "\n",
       "        Type  \n",
       "0  Apartment  \n",
       "1  Apartment  \n",
       "2  Apartment  \n",
       "3  Apartment  \n",
       "4  Apartment  "
      ]
     },
     "execution_count": 69,
     "metadata": {},
     "output_type": "execute_result"
    }
   ],
   "source": [
    "df6['Furnishing'] = df6['Furnishing'].map(encode_furnishing)\n",
    "df6.head()"
   ]
  },
  {
   "cell_type": "code",
   "execution_count": 70,
   "metadata": {},
   "outputs": [
    {
     "data": {
      "text/plain": [
       "array(['Apartment', 'House', 'Builder Floor'], dtype=object)"
      ]
     },
     "execution_count": 70,
     "metadata": {},
     "output_type": "execute_result"
    }
   ],
   "source": [
    "df6['Type'].unique()"
   ]
  },
  {
   "cell_type": "code",
   "execution_count": 72,
   "metadata": {},
   "outputs": [
    {
     "data": {
      "text/plain": [
       "Location\n",
       "Batanagar Kolkata                      200\n",
       "Sugam Morya                            100\n",
       "Behala Chowrasta Kolkata               100\n",
       "Lake Town Kolkata                      100\n",
       "Koyla Vihar Vasundhara                 100\n",
       "Mukundapur Kolkata                     100\n",
       "Classic Tower                          100\n",
       "Greenfield City Classic Premium        100\n",
       "Golf Towers                            100\n",
       "Ballygunge Kolkata                     100\n",
       "Bangur Avenue                          100\n",
       "Motilal Gupta Road Kolkata             100\n",
       "Haridevpur                             100\n",
       "Behala Kolkata                         100\n",
       "Regent Park Kolkata                    100\n",
       "Baguiati Kolkata                       100\n",
       "Parnasree Palli Kolkata                100\n",
       "Buroshibtalla                          100\n",
       "Rajarhat Kolkata                       100\n",
       "Thakurpukur Kolkata                    100\n",
       "Urban Heights                          100\n",
       "Shyam Vihar Phase 2                    100\n",
       "Golpark Cooperative Housing Society    100\n",
       "Multicon Estelle                       100\n",
       "Parvati Garden                         100\n",
       "Shyam Vihar                             23\n",
       "Name: count, dtype: int64"
      ]
     },
     "execution_count": 72,
     "metadata": {},
     "output_type": "execute_result"
    }
   ],
   "source": [
    "df6['Location'].value_counts()"
   ]
  },
  {
   "cell_type": "code",
   "execution_count": 82,
   "metadata": {},
   "outputs": [
    {
     "data": {
      "text/html": [
       "<div>\n",
       "<style scoped>\n",
       "    .dataframe tbody tr th:only-of-type {\n",
       "        vertical-align: middle;\n",
       "    }\n",
       "\n",
       "    .dataframe tbody tr th {\n",
       "        vertical-align: top;\n",
       "    }\n",
       "\n",
       "    .dataframe thead th {\n",
       "        text-align: right;\n",
       "    }\n",
       "</style>\n",
       "<table border=\"1\" class=\"dataframe\">\n",
       "  <thead>\n",
       "    <tr style=\"text-align: right;\">\n",
       "      <th></th>\n",
       "      <th>Location_Baguiati Kolkata</th>\n",
       "      <th>Location_Ballygunge Kolkata</th>\n",
       "      <th>Location_Bangur Avenue</th>\n",
       "      <th>Location_Batanagar Kolkata</th>\n",
       "      <th>Location_Behala Chowrasta Kolkata</th>\n",
       "      <th>Location_Behala Kolkata</th>\n",
       "      <th>Location_Buroshibtalla</th>\n",
       "      <th>Location_Classic Tower</th>\n",
       "      <th>Location_Golf Towers</th>\n",
       "      <th>Location_Golpark Cooperative Housing Society</th>\n",
       "      <th>...</th>\n",
       "      <th>Location_Rajarhat Kolkata</th>\n",
       "      <th>Location_Regent Park Kolkata</th>\n",
       "      <th>Location_Shyam Vihar</th>\n",
       "      <th>Location_Shyam Vihar Phase 2</th>\n",
       "      <th>Location_Sugam Morya</th>\n",
       "      <th>Location_Thakurpukur Kolkata</th>\n",
       "      <th>Location_Urban Heights</th>\n",
       "      <th>Type_Apartment</th>\n",
       "      <th>Type_Builder Floor</th>\n",
       "      <th>Type_House</th>\n",
       "    </tr>\n",
       "  </thead>\n",
       "  <tbody>\n",
       "    <tr>\n",
       "      <th>0</th>\n",
       "      <td>0.0</td>\n",
       "      <td>0.0</td>\n",
       "      <td>0.0</td>\n",
       "      <td>0.0</td>\n",
       "      <td>0.0</td>\n",
       "      <td>0.0</td>\n",
       "      <td>0.0</td>\n",
       "      <td>0.0</td>\n",
       "      <td>0.0</td>\n",
       "      <td>0.0</td>\n",
       "      <td>...</td>\n",
       "      <td>0.0</td>\n",
       "      <td>0.0</td>\n",
       "      <td>0.0</td>\n",
       "      <td>0.0</td>\n",
       "      <td>1.0</td>\n",
       "      <td>0.0</td>\n",
       "      <td>0.0</td>\n",
       "      <td>1.0</td>\n",
       "      <td>0.0</td>\n",
       "      <td>0.0</td>\n",
       "    </tr>\n",
       "    <tr>\n",
       "      <th>1</th>\n",
       "      <td>0.0</td>\n",
       "      <td>0.0</td>\n",
       "      <td>0.0</td>\n",
       "      <td>0.0</td>\n",
       "      <td>0.0</td>\n",
       "      <td>0.0</td>\n",
       "      <td>0.0</td>\n",
       "      <td>0.0</td>\n",
       "      <td>0.0</td>\n",
       "      <td>0.0</td>\n",
       "      <td>...</td>\n",
       "      <td>0.0</td>\n",
       "      <td>1.0</td>\n",
       "      <td>0.0</td>\n",
       "      <td>0.0</td>\n",
       "      <td>0.0</td>\n",
       "      <td>0.0</td>\n",
       "      <td>0.0</td>\n",
       "      <td>1.0</td>\n",
       "      <td>0.0</td>\n",
       "      <td>0.0</td>\n",
       "    </tr>\n",
       "    <tr>\n",
       "      <th>2</th>\n",
       "      <td>0.0</td>\n",
       "      <td>0.0</td>\n",
       "      <td>0.0</td>\n",
       "      <td>0.0</td>\n",
       "      <td>0.0</td>\n",
       "      <td>0.0</td>\n",
       "      <td>0.0</td>\n",
       "      <td>0.0</td>\n",
       "      <td>0.0</td>\n",
       "      <td>0.0</td>\n",
       "      <td>...</td>\n",
       "      <td>0.0</td>\n",
       "      <td>0.0</td>\n",
       "      <td>0.0</td>\n",
       "      <td>0.0</td>\n",
       "      <td>0.0</td>\n",
       "      <td>0.0</td>\n",
       "      <td>0.0</td>\n",
       "      <td>1.0</td>\n",
       "      <td>0.0</td>\n",
       "      <td>0.0</td>\n",
       "    </tr>\n",
       "    <tr>\n",
       "      <th>3</th>\n",
       "      <td>0.0</td>\n",
       "      <td>0.0</td>\n",
       "      <td>0.0</td>\n",
       "      <td>0.0</td>\n",
       "      <td>0.0</td>\n",
       "      <td>0.0</td>\n",
       "      <td>0.0</td>\n",
       "      <td>0.0</td>\n",
       "      <td>0.0</td>\n",
       "      <td>0.0</td>\n",
       "      <td>...</td>\n",
       "      <td>0.0</td>\n",
       "      <td>0.0</td>\n",
       "      <td>0.0</td>\n",
       "      <td>0.0</td>\n",
       "      <td>0.0</td>\n",
       "      <td>0.0</td>\n",
       "      <td>0.0</td>\n",
       "      <td>1.0</td>\n",
       "      <td>0.0</td>\n",
       "      <td>0.0</td>\n",
       "    </tr>\n",
       "    <tr>\n",
       "      <th>4</th>\n",
       "      <td>0.0</td>\n",
       "      <td>0.0</td>\n",
       "      <td>0.0</td>\n",
       "      <td>0.0</td>\n",
       "      <td>0.0</td>\n",
       "      <td>0.0</td>\n",
       "      <td>0.0</td>\n",
       "      <td>0.0</td>\n",
       "      <td>0.0</td>\n",
       "      <td>1.0</td>\n",
       "      <td>...</td>\n",
       "      <td>0.0</td>\n",
       "      <td>0.0</td>\n",
       "      <td>0.0</td>\n",
       "      <td>0.0</td>\n",
       "      <td>0.0</td>\n",
       "      <td>0.0</td>\n",
       "      <td>0.0</td>\n",
       "      <td>1.0</td>\n",
       "      <td>0.0</td>\n",
       "      <td>0.0</td>\n",
       "    </tr>\n",
       "  </tbody>\n",
       "</table>\n",
       "<p>5 rows × 29 columns</p>\n",
       "</div>"
      ],
      "text/plain": [
       "   Location_Baguiati Kolkata  Location_Ballygunge Kolkata  \\\n",
       "0                        0.0                          0.0   \n",
       "1                        0.0                          0.0   \n",
       "2                        0.0                          0.0   \n",
       "3                        0.0                          0.0   \n",
       "4                        0.0                          0.0   \n",
       "\n",
       "   Location_Bangur Avenue  Location_Batanagar Kolkata  \\\n",
       "0                     0.0                         0.0   \n",
       "1                     0.0                         0.0   \n",
       "2                     0.0                         0.0   \n",
       "3                     0.0                         0.0   \n",
       "4                     0.0                         0.0   \n",
       "\n",
       "   Location_Behala Chowrasta Kolkata  Location_Behala Kolkata  \\\n",
       "0                                0.0                      0.0   \n",
       "1                                0.0                      0.0   \n",
       "2                                0.0                      0.0   \n",
       "3                                0.0                      0.0   \n",
       "4                                0.0                      0.0   \n",
       "\n",
       "   Location_Buroshibtalla  Location_Classic Tower  Location_Golf Towers  \\\n",
       "0                     0.0                     0.0                   0.0   \n",
       "1                     0.0                     0.0                   0.0   \n",
       "2                     0.0                     0.0                   0.0   \n",
       "3                     0.0                     0.0                   0.0   \n",
       "4                     0.0                     0.0                   0.0   \n",
       "\n",
       "   Location_Golpark Cooperative Housing Society  ...  \\\n",
       "0                                           0.0  ...   \n",
       "1                                           0.0  ...   \n",
       "2                                           0.0  ...   \n",
       "3                                           0.0  ...   \n",
       "4                                           1.0  ...   \n",
       "\n",
       "   Location_Rajarhat Kolkata  Location_Regent Park Kolkata  \\\n",
       "0                        0.0                           0.0   \n",
       "1                        0.0                           1.0   \n",
       "2                        0.0                           0.0   \n",
       "3                        0.0                           0.0   \n",
       "4                        0.0                           0.0   \n",
       "\n",
       "   Location_Shyam Vihar  Location_Shyam Vihar Phase 2  Location_Sugam Morya  \\\n",
       "0                   0.0                           0.0                   1.0   \n",
       "1                   0.0                           0.0                   0.0   \n",
       "2                   0.0                           0.0                   0.0   \n",
       "3                   0.0                           0.0                   0.0   \n",
       "4                   0.0                           0.0                   0.0   \n",
       "\n",
       "   Location_Thakurpukur Kolkata  Location_Urban Heights  Type_Apartment  \\\n",
       "0                           0.0                     0.0             1.0   \n",
       "1                           0.0                     0.0             1.0   \n",
       "2                           0.0                     0.0             1.0   \n",
       "3                           0.0                     0.0             1.0   \n",
       "4                           0.0                     0.0             1.0   \n",
       "\n",
       "   Type_Builder Floor  Type_House  \n",
       "0                 0.0         0.0  \n",
       "1                 0.0         0.0  \n",
       "2                 0.0         0.0  \n",
       "3                 0.0         0.0  \n",
       "4                 0.0         0.0  \n",
       "\n",
       "[5 rows x 29 columns]"
      ]
     },
     "execution_count": 82,
     "metadata": {},
     "output_type": "execute_result"
    }
   ],
   "source": [
    "from sklearn.preprocessing import OneHotEncoder\n",
    "\n",
    "cols = ['Location', 'Type']\n",
    "\n",
    "OH_encoder = OneHotEncoder(handle_unknown='ignore', sparse_output=False)\n",
    "OH_cols = pd.DataFrame(OH_encoder.fit_transform(df6[cols]))\n",
    "\n",
    "OH_cols.index = df6.index\n",
    "\n",
    "OH_cols.columns = OH_encoder.get_feature_names_out(cols)\n",
    "OH_cols.head()\n"
   ]
  },
  {
   "cell_type": "code",
   "execution_count": 84,
   "metadata": {},
   "outputs": [
    {
     "data": {
      "text/html": [
       "<div>\n",
       "<style scoped>\n",
       "    .dataframe tbody tr th:only-of-type {\n",
       "        vertical-align: middle;\n",
       "    }\n",
       "\n",
       "    .dataframe tbody tr th {\n",
       "        vertical-align: top;\n",
       "    }\n",
       "\n",
       "    .dataframe thead th {\n",
       "        text-align: right;\n",
       "    }\n",
       "</style>\n",
       "<table border=\"1\" class=\"dataframe\">\n",
       "  <thead>\n",
       "    <tr style=\"text-align: right;\">\n",
       "      <th></th>\n",
       "      <th>Area</th>\n",
       "      <th>Furnishing</th>\n",
       "      <th>Price</th>\n",
       "      <th>BHK</th>\n",
       "    </tr>\n",
       "  </thead>\n",
       "  <tbody>\n",
       "    <tr>\n",
       "      <th>0</th>\n",
       "      <td>1850</td>\n",
       "      <td>0</td>\n",
       "      <td>238.0</td>\n",
       "      <td>4</td>\n",
       "    </tr>\n",
       "    <tr>\n",
       "      <th>1</th>\n",
       "      <td>525</td>\n",
       "      <td>0</td>\n",
       "      <td>32.0</td>\n",
       "      <td>2</td>\n",
       "    </tr>\n",
       "    <tr>\n",
       "      <th>2</th>\n",
       "      <td>705</td>\n",
       "      <td>0</td>\n",
       "      <td>32.0</td>\n",
       "      <td>2</td>\n",
       "    </tr>\n",
       "    <tr>\n",
       "      <th>3</th>\n",
       "      <td>1612</td>\n",
       "      <td>0</td>\n",
       "      <td>225.0</td>\n",
       "      <td>3</td>\n",
       "    </tr>\n",
       "    <tr>\n",
       "      <th>4</th>\n",
       "      <td>980</td>\n",
       "      <td>1</td>\n",
       "      <td>50.0</td>\n",
       "      <td>2</td>\n",
       "    </tr>\n",
       "  </tbody>\n",
       "</table>\n",
       "</div>"
      ],
      "text/plain": [
       "   Area  Furnishing  Price  BHK\n",
       "0  1850           0  238.0    4\n",
       "1   525           0   32.0    2\n",
       "2   705           0   32.0    2\n",
       "3  1612           0  225.0    3\n",
       "4   980           1   50.0    2"
      ]
     },
     "execution_count": 84,
     "metadata": {},
     "output_type": "execute_result"
    }
   ],
   "source": [
    "df7 = df6.drop(['Location', 'Type'], axis='columns')\n",
    "df7.head()"
   ]
  },
  {
   "cell_type": "code",
   "execution_count": 85,
   "metadata": {},
   "outputs": [
    {
     "data": {
      "text/html": [
       "<div>\n",
       "<style scoped>\n",
       "    .dataframe tbody tr th:only-of-type {\n",
       "        vertical-align: middle;\n",
       "    }\n",
       "\n",
       "    .dataframe tbody tr th {\n",
       "        vertical-align: top;\n",
       "    }\n",
       "\n",
       "    .dataframe thead th {\n",
       "        text-align: right;\n",
       "    }\n",
       "</style>\n",
       "<table border=\"1\" class=\"dataframe\">\n",
       "  <thead>\n",
       "    <tr style=\"text-align: right;\">\n",
       "      <th></th>\n",
       "      <th>Area</th>\n",
       "      <th>Furnishing</th>\n",
       "      <th>Price</th>\n",
       "      <th>BHK</th>\n",
       "      <th>Location_Baguiati Kolkata</th>\n",
       "      <th>Location_Ballygunge Kolkata</th>\n",
       "      <th>Location_Bangur Avenue</th>\n",
       "      <th>Location_Batanagar Kolkata</th>\n",
       "      <th>Location_Behala Chowrasta Kolkata</th>\n",
       "      <th>Location_Behala Kolkata</th>\n",
       "      <th>...</th>\n",
       "      <th>Location_Rajarhat Kolkata</th>\n",
       "      <th>Location_Regent Park Kolkata</th>\n",
       "      <th>Location_Shyam Vihar</th>\n",
       "      <th>Location_Shyam Vihar Phase 2</th>\n",
       "      <th>Location_Sugam Morya</th>\n",
       "      <th>Location_Thakurpukur Kolkata</th>\n",
       "      <th>Location_Urban Heights</th>\n",
       "      <th>Type_Apartment</th>\n",
       "      <th>Type_Builder Floor</th>\n",
       "      <th>Type_House</th>\n",
       "    </tr>\n",
       "  </thead>\n",
       "  <tbody>\n",
       "    <tr>\n",
       "      <th>0</th>\n",
       "      <td>1850</td>\n",
       "      <td>0</td>\n",
       "      <td>238.0</td>\n",
       "      <td>4</td>\n",
       "      <td>0.0</td>\n",
       "      <td>0.0</td>\n",
       "      <td>0.0</td>\n",
       "      <td>0.0</td>\n",
       "      <td>0.0</td>\n",
       "      <td>0.0</td>\n",
       "      <td>...</td>\n",
       "      <td>0.0</td>\n",
       "      <td>0.0</td>\n",
       "      <td>0.0</td>\n",
       "      <td>0.0</td>\n",
       "      <td>1.0</td>\n",
       "      <td>0.0</td>\n",
       "      <td>0.0</td>\n",
       "      <td>1.0</td>\n",
       "      <td>0.0</td>\n",
       "      <td>0.0</td>\n",
       "    </tr>\n",
       "    <tr>\n",
       "      <th>1</th>\n",
       "      <td>525</td>\n",
       "      <td>0</td>\n",
       "      <td>32.0</td>\n",
       "      <td>2</td>\n",
       "      <td>0.0</td>\n",
       "      <td>0.0</td>\n",
       "      <td>0.0</td>\n",
       "      <td>0.0</td>\n",
       "      <td>0.0</td>\n",
       "      <td>0.0</td>\n",
       "      <td>...</td>\n",
       "      <td>0.0</td>\n",
       "      <td>1.0</td>\n",
       "      <td>0.0</td>\n",
       "      <td>0.0</td>\n",
       "      <td>0.0</td>\n",
       "      <td>0.0</td>\n",
       "      <td>0.0</td>\n",
       "      <td>1.0</td>\n",
       "      <td>0.0</td>\n",
       "      <td>0.0</td>\n",
       "    </tr>\n",
       "    <tr>\n",
       "      <th>2</th>\n",
       "      <td>705</td>\n",
       "      <td>0</td>\n",
       "      <td>32.0</td>\n",
       "      <td>2</td>\n",
       "      <td>0.0</td>\n",
       "      <td>0.0</td>\n",
       "      <td>0.0</td>\n",
       "      <td>0.0</td>\n",
       "      <td>0.0</td>\n",
       "      <td>0.0</td>\n",
       "      <td>...</td>\n",
       "      <td>0.0</td>\n",
       "      <td>0.0</td>\n",
       "      <td>0.0</td>\n",
       "      <td>0.0</td>\n",
       "      <td>0.0</td>\n",
       "      <td>0.0</td>\n",
       "      <td>0.0</td>\n",
       "      <td>1.0</td>\n",
       "      <td>0.0</td>\n",
       "      <td>0.0</td>\n",
       "    </tr>\n",
       "    <tr>\n",
       "      <th>3</th>\n",
       "      <td>1612</td>\n",
       "      <td>0</td>\n",
       "      <td>225.0</td>\n",
       "      <td>3</td>\n",
       "      <td>0.0</td>\n",
       "      <td>0.0</td>\n",
       "      <td>0.0</td>\n",
       "      <td>0.0</td>\n",
       "      <td>0.0</td>\n",
       "      <td>0.0</td>\n",
       "      <td>...</td>\n",
       "      <td>0.0</td>\n",
       "      <td>0.0</td>\n",
       "      <td>0.0</td>\n",
       "      <td>0.0</td>\n",
       "      <td>0.0</td>\n",
       "      <td>0.0</td>\n",
       "      <td>0.0</td>\n",
       "      <td>1.0</td>\n",
       "      <td>0.0</td>\n",
       "      <td>0.0</td>\n",
       "    </tr>\n",
       "    <tr>\n",
       "      <th>4</th>\n",
       "      <td>980</td>\n",
       "      <td>1</td>\n",
       "      <td>50.0</td>\n",
       "      <td>2</td>\n",
       "      <td>0.0</td>\n",
       "      <td>0.0</td>\n",
       "      <td>0.0</td>\n",
       "      <td>0.0</td>\n",
       "      <td>0.0</td>\n",
       "      <td>0.0</td>\n",
       "      <td>...</td>\n",
       "      <td>0.0</td>\n",
       "      <td>0.0</td>\n",
       "      <td>0.0</td>\n",
       "      <td>0.0</td>\n",
       "      <td>0.0</td>\n",
       "      <td>0.0</td>\n",
       "      <td>0.0</td>\n",
       "      <td>1.0</td>\n",
       "      <td>0.0</td>\n",
       "      <td>0.0</td>\n",
       "    </tr>\n",
       "  </tbody>\n",
       "</table>\n",
       "<p>5 rows × 33 columns</p>\n",
       "</div>"
      ],
      "text/plain": [
       "   Area  Furnishing  Price  BHK  Location_Baguiati Kolkata  \\\n",
       "0  1850           0  238.0    4                        0.0   \n",
       "1   525           0   32.0    2                        0.0   \n",
       "2   705           0   32.0    2                        0.0   \n",
       "3  1612           0  225.0    3                        0.0   \n",
       "4   980           1   50.0    2                        0.0   \n",
       "\n",
       "   Location_Ballygunge Kolkata  Location_Bangur Avenue  \\\n",
       "0                          0.0                     0.0   \n",
       "1                          0.0                     0.0   \n",
       "2                          0.0                     0.0   \n",
       "3                          0.0                     0.0   \n",
       "4                          0.0                     0.0   \n",
       "\n",
       "   Location_Batanagar Kolkata  Location_Behala Chowrasta Kolkata  \\\n",
       "0                         0.0                                0.0   \n",
       "1                         0.0                                0.0   \n",
       "2                         0.0                                0.0   \n",
       "3                         0.0                                0.0   \n",
       "4                         0.0                                0.0   \n",
       "\n",
       "   Location_Behala Kolkata  ...  Location_Rajarhat Kolkata  \\\n",
       "0                      0.0  ...                        0.0   \n",
       "1                      0.0  ...                        0.0   \n",
       "2                      0.0  ...                        0.0   \n",
       "3                      0.0  ...                        0.0   \n",
       "4                      0.0  ...                        0.0   \n",
       "\n",
       "   Location_Regent Park Kolkata  Location_Shyam Vihar  \\\n",
       "0                           0.0                   0.0   \n",
       "1                           1.0                   0.0   \n",
       "2                           0.0                   0.0   \n",
       "3                           0.0                   0.0   \n",
       "4                           0.0                   0.0   \n",
       "\n",
       "   Location_Shyam Vihar Phase 2  Location_Sugam Morya  \\\n",
       "0                           0.0                   1.0   \n",
       "1                           0.0                   0.0   \n",
       "2                           0.0                   0.0   \n",
       "3                           0.0                   0.0   \n",
       "4                           0.0                   0.0   \n",
       "\n",
       "   Location_Thakurpukur Kolkata  Location_Urban Heights  Type_Apartment  \\\n",
       "0                           0.0                     0.0             1.0   \n",
       "1                           0.0                     0.0             1.0   \n",
       "2                           0.0                     0.0             1.0   \n",
       "3                           0.0                     0.0             1.0   \n",
       "4                           0.0                     0.0             1.0   \n",
       "\n",
       "   Type_Builder Floor  Type_House  \n",
       "0                 0.0         0.0  \n",
       "1                 0.0         0.0  \n",
       "2                 0.0         0.0  \n",
       "3                 0.0         0.0  \n",
       "4                 0.0         0.0  \n",
       "\n",
       "[5 rows x 33 columns]"
      ]
     },
     "execution_count": 85,
     "metadata": {},
     "output_type": "execute_result"
    }
   ],
   "source": [
    "housing_data = pd.concat([df7,OH_cols], axis='columns')\n",
    "housing_data.head()"
   ]
  },
  {
   "cell_type": "code",
   "execution_count": 86,
   "metadata": {},
   "outputs": [
    {
     "data": {
      "text/plain": [
       "Index(['Area', 'Furnishing', 'Price', 'BHK', 'Location_Baguiati Kolkata',\n",
       "       'Location_Ballygunge Kolkata', 'Location_Bangur Avenue',\n",
       "       'Location_Batanagar Kolkata', 'Location_Behala Chowrasta Kolkata',\n",
       "       'Location_Behala Kolkata', 'Location_Buroshibtalla',\n",
       "       'Location_Classic Tower', 'Location_Golf Towers',\n",
       "       'Location_Golpark Cooperative Housing Society',\n",
       "       'Location_Greenfield City Classic Premium', 'Location_Haridevpur',\n",
       "       'Location_Koyla Vihar Vasundhara', 'Location_Lake Town Kolkata',\n",
       "       'Location_Motilal Gupta Road Kolkata', 'Location_Mukundapur Kolkata',\n",
       "       'Location_Multicon Estelle', 'Location_Parnasree Palli Kolkata',\n",
       "       'Location_Parvati Garden', 'Location_Rajarhat Kolkata',\n",
       "       'Location_Regent Park Kolkata', 'Location_Shyam Vihar',\n",
       "       'Location_Shyam Vihar Phase 2', 'Location_Sugam Morya',\n",
       "       'Location_Thakurpukur Kolkata', 'Location_Urban Heights',\n",
       "       'Type_Apartment', 'Type_Builder Floor', 'Type_House'],\n",
       "      dtype='object')"
      ]
     },
     "execution_count": 86,
     "metadata": {},
     "output_type": "execute_result"
    }
   ],
   "source": [
    "housing_data.columns = housing_data.columns.astype(str)\n",
    "housing_data.columns"
   ]
  },
  {
   "cell_type": "code",
   "execution_count": 88,
   "metadata": {},
   "outputs": [],
   "source": [
    "X = housing_data.drop('Price', axis='columns')\n",
    "y = housing_data.Price"
   ]
  },
  {
   "cell_type": "code",
   "execution_count": 93,
   "metadata": {},
   "outputs": [
    {
     "data": {
      "text/plain": [
       "1.0"
      ]
     },
     "execution_count": 93,
     "metadata": {},
     "output_type": "execute_result"
    }
   ],
   "source": [
    "from sklearn.model_selection import train_test_split\n",
    "from sklearn.linear_model import LinearRegression\n",
    "X_train, X_test, y_train, y_test = train_test_split(X, y, test_size=0.4, random_state=7)\n",
    "\n",
    "model1 = LinearRegression()\n",
    "model1.fit(X_train, y_train)\n",
    "model1.score(X_test, y_test)"
   ]
  },
  {
   "cell_type": "code",
   "execution_count": 95,
   "metadata": {},
   "outputs": [
    {
     "data": {
      "text/plain": [
       "array([1., 1., 1., 1., 1.])"
      ]
     },
     "execution_count": 95,
     "metadata": {},
     "output_type": "execute_result"
    }
   ],
   "source": [
    "from sklearn.model_selection import ShuffleSplit\n",
    "from sklearn.model_selection import cross_val_score\n",
    "\n",
    "cv = ShuffleSplit(n_splits=5, test_size=0.2, random_state=0)\n",
    "cross_val_score(LinearRegression(), X, y, cv=cv)"
   ]
  },
  {
   "cell_type": "code",
   "execution_count": 106,
   "metadata": {},
   "outputs": [],
   "source": [
    "from sklearn.linear_model import Lasso\n",
    "from sklearn.tree import DecisionTreeRegressor\n",
    "from sklearn.ensemble import RandomForestRegressor\n",
    "\n",
    "algos = {\n",
    "    \"linear_regression\":{\n",
    "        'model':LinearRegression(),\n",
    "        'params':{\n",
    "            'positive':[True, False]\n",
    "        }\n",
    "    },\n",
    "    \"lasso\":{\n",
    "        'model':Lasso(),\n",
    "        'params':{\n",
    "            'alpha':[1,2],\n",
    "            'selection':['cyclic','random']\n",
    "        }\n",
    "    },\n",
    "    \"decision_tree\":{\n",
    "        'model':DecisionTreeRegressor(),\n",
    "        'params':{\n",
    "            'criterion':['squared_error', 'friedman_mse'],\n",
    "            'splitter':['best','random']\n",
    "        }\n",
    "    },\n",
    "    \"random_forest\":{\n",
    "        'model':RandomForestRegressor(),\n",
    "        'params':{\n",
    "            'n_estimators':[100,150,200],\n",
    "            'criterion':['squared_error', 'friedman_mse']\n",
    "        }\n",
    "    }\n",
    "}"
   ]
  },
  {
   "cell_type": "code",
   "execution_count": 107,
   "metadata": {},
   "outputs": [
    {
     "name": "stderr",
     "output_type": "stream",
     "text": [
      "c:\\Users\\User\\AppData\\Local\\Programs\\Python\\Python312\\Lib\\site-packages\\sklearn\\model_selection\\_validation.py:540: FitFailedWarning: \n",
      "5 fits failed out of a total of 10.\n",
      "The score on these train-test partitions for these parameters will be set to nan.\n",
      "If these failures are not expected, you can try to debug them by setting error_score='raise'.\n",
      "\n",
      "Below are more details about the failures:\n",
      "--------------------------------------------------------------------------------\n",
      "5 fits failed with the following error:\n",
      "Traceback (most recent call last):\n",
      "  File \"c:\\Users\\User\\AppData\\Local\\Programs\\Python\\Python312\\Lib\\site-packages\\sklearn\\model_selection\\_validation.py\", line 888, in _fit_and_score\n",
      "    estimator.fit(X_train, y_train, **fit_params)\n",
      "  File \"c:\\Users\\User\\AppData\\Local\\Programs\\Python\\Python312\\Lib\\site-packages\\sklearn\\base.py\", line 1473, in wrapper\n",
      "    return fit_method(estimator, *args, **kwargs)\n",
      "           ^^^^^^^^^^^^^^^^^^^^^^^^^^^^^^^^^^^^^^\n",
      "  File \"c:\\Users\\User\\AppData\\Local\\Programs\\Python\\Python312\\Lib\\site-packages\\sklearn\\linear_model\\_base.py\", line 642, in fit\n",
      "    self.coef_ = optimize.nnls(X, y)[0]\n",
      "                 ^^^^^^^^^^^^^^^^^^^\n",
      "  File \"c:\\Users\\User\\AppData\\Local\\Programs\\Python\\Python312\\Lib\\site-packages\\scipy\\optimize\\_nnls.py\", line 93, in nnls\n",
      "    raise RuntimeError(\"Maximum number of iterations reached.\")\n",
      "RuntimeError: Maximum number of iterations reached.\n",
      "\n",
      "  warnings.warn(some_fits_failed_message, FitFailedWarning)\n",
      "c:\\Users\\User\\AppData\\Local\\Programs\\Python\\Python312\\Lib\\site-packages\\sklearn\\model_selection\\_search.py:1052: UserWarning: One or more of the test scores are non-finite: [nan  1.]\n",
      "  warnings.warn(\n"
     ]
    },
    {
     "data": {
      "text/html": [
       "<div>\n",
       "<style scoped>\n",
       "    .dataframe tbody tr th:only-of-type {\n",
       "        vertical-align: middle;\n",
       "    }\n",
       "\n",
       "    .dataframe tbody tr th {\n",
       "        vertical-align: top;\n",
       "    }\n",
       "\n",
       "    .dataframe thead th {\n",
       "        text-align: right;\n",
       "    }\n",
       "</style>\n",
       "<table border=\"1\" class=\"dataframe\">\n",
       "  <thead>\n",
       "    <tr style=\"text-align: right;\">\n",
       "      <th></th>\n",
       "      <th>model</th>\n",
       "      <th>best score</th>\n",
       "      <th>best params</th>\n",
       "    </tr>\n",
       "  </thead>\n",
       "  <tbody>\n",
       "    <tr>\n",
       "      <th>0</th>\n",
       "      <td>linear_regression</td>\n",
       "      <td>1.000000</td>\n",
       "      <td>{'positive': False}</td>\n",
       "    </tr>\n",
       "    <tr>\n",
       "      <th>1</th>\n",
       "      <td>lasso</td>\n",
       "      <td>0.934471</td>\n",
       "      <td>{'alpha': 1, 'selection': 'random'}</td>\n",
       "    </tr>\n",
       "    <tr>\n",
       "      <th>2</th>\n",
       "      <td>decision_tree</td>\n",
       "      <td>1.000000</td>\n",
       "      <td>{'criterion': 'squared_error', 'splitter': 'be...</td>\n",
       "    </tr>\n",
       "    <tr>\n",
       "      <th>3</th>\n",
       "      <td>random_forest</td>\n",
       "      <td>1.000000</td>\n",
       "      <td>{'criterion': 'squared_error', 'n_estimators':...</td>\n",
       "    </tr>\n",
       "  </tbody>\n",
       "</table>\n",
       "</div>"
      ],
      "text/plain": [
       "               model  best score  \\\n",
       "0  linear_regression    1.000000   \n",
       "1              lasso    0.934471   \n",
       "2      decision_tree    1.000000   \n",
       "3      random_forest    1.000000   \n",
       "\n",
       "                                         best params  \n",
       "0                                {'positive': False}  \n",
       "1                {'alpha': 1, 'selection': 'random'}  \n",
       "2  {'criterion': 'squared_error', 'splitter': 'be...  \n",
       "3  {'criterion': 'squared_error', 'n_estimators':...  "
      ]
     },
     "execution_count": 107,
     "metadata": {},
     "output_type": "execute_result"
    }
   ],
   "source": [
    "from sklearn.model_selection import GridSearchCV\n",
    "scores=[]\n",
    "for algo,config in algos.items():\n",
    "    gs=GridSearchCV(estimator=config['model'],param_grid=config['params'], cv=cv)\n",
    "    gs.fit(X,y)\n",
    "    scores.append({\n",
    "        'model':algo,\n",
    "        'best score':gs.best_score_,\n",
    "        'best params':gs.best_params_\n",
    "    })\n",
    "pd.DataFrame(scores,columns=['model','best score', 'best params'])"
   ]
  },
  {
   "cell_type": "code",
   "execution_count": 109,
   "metadata": {},
   "outputs": [],
   "source": [
    "import pickle\n",
    "with open('model.pickle','wb') as p:\n",
    "    pickle.dump(model1, p)"
   ]
  },
  {
   "cell_type": "code",
   "execution_count": 115,
   "metadata": {},
   "outputs": [
    {
     "name": "stderr",
     "output_type": "stream",
     "text": [
      "c:\\Users\\User\\AppData\\Local\\Programs\\Python\\Python312\\Lib\\site-packages\\sklearn\\base.py:493: UserWarning: X does not have valid feature names, but LinearRegression was fitted with feature names\n",
      "  warnings.warn(\n"
     ]
    },
    {
     "data": {
      "text/plain": [
       "array([32.])"
      ]
     },
     "execution_count": 115,
     "metadata": {},
     "output_type": "execute_result"
    }
   ],
   "source": [
    "with open('model.pickle','rb') as p:\n",
    "    m = pickle.load(p)\n",
    "\n",
    "X_data = housing_data.drop('Price',axis='columns').iloc[2].to_list()\n",
    "m.predict([X_data])"
   ]
  },
  {
   "cell_type": "code",
   "execution_count": 118,
   "metadata": {},
   "outputs": [
    {
     "data": {
      "text/plain": [
       "['area',\n",
       " 'furnishing',\n",
       " 'bhk',\n",
       " 'location_baguiati kolkata',\n",
       " 'location_ballygunge kolkata',\n",
       " 'location_bangur avenue',\n",
       " 'location_batanagar kolkata',\n",
       " 'location_behala chowrasta kolkata',\n",
       " 'location_behala kolkata',\n",
       " 'location_buroshibtalla',\n",
       " 'location_classic tower',\n",
       " 'location_golf towers',\n",
       " 'location_golpark cooperative housing society',\n",
       " 'location_greenfield city classic premium',\n",
       " 'location_haridevpur',\n",
       " 'location_koyla vihar vasundhara',\n",
       " 'location_lake town kolkata',\n",
       " 'location_motilal gupta road kolkata',\n",
       " 'location_mukundapur kolkata',\n",
       " 'location_multicon estelle',\n",
       " 'location_parnasree palli kolkata',\n",
       " 'location_parvati garden',\n",
       " 'location_rajarhat kolkata',\n",
       " 'location_regent park kolkata',\n",
       " 'location_shyam vihar',\n",
       " 'location_shyam vihar phase 2',\n",
       " 'location_sugam morya',\n",
       " 'location_thakurpukur kolkata',\n",
       " 'location_urban heights',\n",
       " 'type_apartment',\n",
       " 'type_builder floor',\n",
       " 'type_house']"
      ]
     },
     "execution_count": 118,
     "metadata": {},
     "output_type": "execute_result"
    }
   ],
   "source": [
    "columns = [c.lower() for c in X.columns.tolist()]\n",
    "columns"
   ]
  },
  {
   "cell_type": "code",
   "execution_count": 121,
   "metadata": {},
   "outputs": [],
   "source": [
    "import json\n",
    "with open('columns.json', 'w') as f:\n",
    "    json.dump({\"columns\":columns}, f)"
   ]
  }
 ],
 "metadata": {
  "kernelspec": {
   "display_name": "Python 3",
   "language": "python",
   "name": "python3"
  },
  "language_info": {
   "codemirror_mode": {
    "name": "ipython",
    "version": 3
   },
   "file_extension": ".py",
   "mimetype": "text/x-python",
   "name": "python",
   "nbconvert_exporter": "python",
   "pygments_lexer": "ipython3",
   "version": "3.12.3"
  }
 },
 "nbformat": 4,
 "nbformat_minor": 2
}
